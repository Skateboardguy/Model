{
 "cells": [
  {
   "cell_type": "markdown",
   "id": "61566039",
   "metadata": {},
   "source": [
    "```mermaid\n",
    "flowchart TD\n",
    "    A[開始：資料 & 特徵工程] --> B[Step 1: 處理樣本不平衡]\n",
    "    B -->|計算 負樣本/正樣本 比例| C[設定 scale_pos_weight]\n",
    "    C -->|測試多個值 建議值 ±50%| D[觀察 AUC / Recall / F1]\n",
    "    \n",
    "    D --> E[Step 2: 調整超參數]\n",
    "    E -->|核心參數| F[max_depth, min_child_weight, gamma]\n",
    "    E -->|學習率&樹數| G[learning_rate, n_estimators]\n",
    "    E -->|子樣本比例| H[subsample, colsample_bytree]\n",
    "    F --> I[GridSearchCV / RandomizedSearchCV]\n",
    "    G --> I\n",
    "    H --> I\n",
    "    I --> J[選出最佳模型]\n",
    "    \n",
    "    J --> |這邊目前暫定不能動|K[Step 3: 閾值調整 ]\n",
    "    K -->|precision_recall_curve| L[計算不同 threshold 下的 Precision/ Recall/ F1]\n",
    "    L -->|np.argmax f1_scores| M[找到最佳 threshold]\n",
    "    M --> N[更新 optimal_threshold]\n",
    "    \n",
    "    N --> O[Step 4: 業務需求導向調整]\n",
    "    O -->|偏 Recall| P[目標提高召回率，多抓高風險客戶名單數]\n",
    "    O -->|偏 Precision| Q[減少誤報，降低正常客戶被誤判]\n",
    "    \n",
    "    P --> R[最終模型輸出]\n",
    "    Q --> R\n",
    "```"
   ]
  },
  {
   "cell_type": "markdown",
   "id": "c1dc0e39",
   "metadata": {},
   "source": []
  }
 ],
 "metadata": {
  "kernelspec": {
   "display_name": "Py39",
   "language": "python",
   "name": "py39clean"
  },
  "language_info": {
   "codemirror_mode": {
    "name": "ipython",
    "version": 3
   },
   "file_extension": ".py",
   "mimetype": "text/x-python",
   "name": "python",
   "nbconvert_exporter": "python",
   "pygments_lexer": "ipython3",
   "version": "3.9.19"
  }
 },
 "nbformat": 4,
 "nbformat_minor": 5
}
